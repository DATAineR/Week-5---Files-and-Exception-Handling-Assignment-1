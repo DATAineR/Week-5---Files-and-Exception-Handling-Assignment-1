{
 "cells": [
  {
   "cell_type": "markdown",
   "id": "da9ba505-b895-4681-b238-c38d89334860",
   "metadata": {},
   "source": [
    "Q1. What is an Exception in python? Write the difference between Exceptions and syntax errors."
   ]
  },
  {
   "cell_type": "markdown",
   "id": "d3e7924a-d13c-4e30-9a93-24e3b4f78f0b",
   "metadata": {},
   "source": [
    "In Python, an exception is an event that occurs during the execution of a program that disrupts the normal flow of instructions. When an exceptional situation arises, an exception is raised, and the normal flow of the program is interrupted to handle the exception. Exceptions can occur for various reasons, such as trying to access an undefined variable, dividing by zero, or attempting to open a file that does not exist.\n",
    "\n"
   ]
  },
  {
   "cell_type": "markdown",
   "id": "4db77f03-c729-4feb-9836-d4217d4afa14",
   "metadata": {},
   "source": [
    "Syntax errors, on the other hand, are errors that occur during the parsing of code. These errors are typically detected by the Python interpreter before the program is executed. Syntax errors are caused by violations of the rules of the Python language, such as incorrect indentation, missing colons, or using invalid syntax."
   ]
  },
  {
   "cell_type": "markdown",
   "id": "5284ea4d-cea9-4f5c-b6dd-9acc46e9ca34",
   "metadata": {},
   "source": [
    "Here are the key differences between exceptions and syntax errors:\n",
    "\n"
   ]
  },
  {
   "cell_type": "markdown",
   "id": "f6686fec-0880-411b-9bf4-f790706d8ca0",
   "metadata": {},
   "source": [
    "1. Timing of Detection:\n",
    "\n",
    "Exceptions are detected during the execution of the program when a specific error condition is encountered.\n",
    "Syntax errors are detected during the parsing of the code before the program is executed.\n",
    "\n",
    "2. Cause:\n",
    "\n",
    "Exceptions are typically caused by runtime conditions, such as invalid input or file not found.\n",
    "Syntax errors are caused by violations of the Python language's syntax rules, like incorrect use of keywords or missing punctuation.\n",
    "\n",
    "3. Handling:\n",
    "\n",
    "Exceptions can be caught and handled using try-except blocks. This allows the program to respond gracefully to unexpected situations.\n",
    "Syntax errors must be fixed in the code before the program can be successfully executed.\n",
    "\n",
    "Examples:\n",
    "\n",
    "Examples of exceptions include ZeroDivisionError, FileNotFoundError, and TypeError.\n",
    "Examples of syntax errors include missing colons after if statements, mismatched parentheses, or using an invalid identifier."
   ]
  },
  {
   "cell_type": "markdown",
   "id": "41e95093-be63-4acb-a6f7-e947bd1c139f",
   "metadata": {},
   "source": [
    "Q2. What happens when an exception is not handled ? Explain with an example"
   ]
  },
  {
   "cell_type": "markdown",
   "id": "86b0a368-c6cc-4e4d-9c65-23c592c7876f",
   "metadata": {},
   "source": [
    "When an exception is not handled in a program, it leads to the termination of the program, and an error message, including information about the unhandled exception, is displayed. This can make it challenging to diagnose and fix issues, especially in production environments where the user might not see the error message."
   ]
  },
  {
   "cell_type": "code",
   "execution_count": 1,
   "id": "282b2e69-b280-4bc9-954c-d84bb58ec95f",
   "metadata": {},
   "outputs": [
    {
     "ename": "ZeroDivisionError",
     "evalue": "division by zero",
     "output_type": "error",
     "traceback": [
      "\u001b[1;31m---------------------------------------------------------------------------\u001b[0m",
      "\u001b[1;31mZeroDivisionError\u001b[0m                         Traceback (most recent call last)",
      "Cell \u001b[1;32mIn[1], line 6\u001b[0m\n\u001b[0;32m      3\u001b[0m numerator \u001b[38;5;241m=\u001b[39m \u001b[38;5;241m10\u001b[39m\n\u001b[0;32m      4\u001b[0m denominator \u001b[38;5;241m=\u001b[39m \u001b[38;5;241m0\u001b[39m\n\u001b[1;32m----> 6\u001b[0m result \u001b[38;5;241m=\u001b[39m numerator \u001b[38;5;241m/\u001b[39m denominator  \u001b[38;5;66;03m# This will raise a ZeroDivisionError\u001b[39;00m\n\u001b[0;32m      7\u001b[0m \u001b[38;5;28mprint\u001b[39m(\u001b[38;5;124m\"\u001b[39m\u001b[38;5;124mResult:\u001b[39m\u001b[38;5;124m\"\u001b[39m, result)\n",
      "\u001b[1;31mZeroDivisionError\u001b[0m: division by zero"
     ]
    }
   ],
   "source": [
    "# Example: Division by zero without handling the exception\n",
    "\n",
    "numerator = 10\n",
    "denominator = 0\n",
    "\n",
    "result = numerator / denominator  # This will raise a ZeroDivisionError\n",
    "print(\"Result:\", result)  # This line will not be executed if an exception occurs\n"
   ]
  },
  {
   "cell_type": "markdown",
   "id": "5a149bd9-a4fd-49e4-aa60-4426b8222b63",
   "metadata": {},
   "source": [
    "In this example, the attempt to divide numerator by denominator will result in a ZeroDivisionError because dividing by zero is undefined in mathematics. Since there's no exception handling in place, the program will terminate, and an error message will be displayed, indicating the type of exception and the line of code where it occurred."
   ]
  },
  {
   "cell_type": "code",
   "execution_count": 2,
   "id": "dd4c14f9-d254-48ef-bc45-230bd44d2fa9",
   "metadata": {},
   "outputs": [
    {
     "ename": "SyntaxError",
     "evalue": "invalid syntax (686853244.py, line 1)",
     "output_type": "error",
     "traceback": [
      "\u001b[1;36m  Cell \u001b[1;32mIn[2], line 1\u001b[1;36m\u001b[0m\n\u001b[1;33m    ZeroDivisionError: division by zero\u001b[0m\n\u001b[1;37m                                ^\u001b[0m\n\u001b[1;31mSyntaxError\u001b[0m\u001b[1;31m:\u001b[0m invalid syntax\n"
     ]
    }
   ],
   "source": [
    "ZeroDivisionError: division by zero\n"
   ]
  },
  {
   "cell_type": "markdown",
   "id": "1e8103af-db38-4b7b-936e-b2adb750551f",
   "metadata": {},
   "source": [
    "The line print(\"Result:\", result) will not be executed because the exception occurred before reaching that line. If you want to handle this exception gracefully, you can use a try-except block:"
   ]
  },
  {
   "cell_type": "code",
   "execution_count": 3,
   "id": "319645d2-4eaf-45a7-b867-707b9094f8e1",
   "metadata": {},
   "outputs": [
    {
     "name": "stdout",
     "output_type": "stream",
     "text": [
      "Error: Cannot divide by zero!\n"
     ]
    }
   ],
   "source": [
    "numerator = 10\n",
    "denominator = 0\n",
    "\n",
    "try:\n",
    "    result = numerator / denominator\n",
    "    print(\"Result:\", result)\n",
    "except ZeroDivisionError:\n",
    "    print(\"Error: Cannot divide by zero!\")\n"
   ]
  },
  {
   "cell_type": "markdown",
   "id": "1a41541c-5604-4668-b515-24a061087b8c",
   "metadata": {},
   "source": [
    "With this try-except block, even if an exception occurs during the division, the program will not terminate abruptly. Instead, it will execute the code inside the except block, providing a more controlled response to the exceptional situation."
   ]
  },
  {
   "cell_type": "markdown",
   "id": "a67cd394-bce8-4f4c-8795-b9f8166a3da3",
   "metadata": {},
   "source": [
    "Q3. Which python statements are used to catch and handle exceptions ? Explain with an example."
   ]
  },
  {
   "cell_type": "markdown",
   "id": "bd70adaf-9faf-4dda-9ca3-6b0b80f59062",
   "metadata": {},
   "source": [
    "\n",
    "In Python, the try, except, else, and finally statements are used for catching and handling exceptions. Here's a brief explanation of each:\n",
    "\n",
    "try: This block contains the code where an exception might occur. The code inside the try block is monitored for exceptions.\n",
    "\n",
    "except: If an exception occurs in the corresponding try block, the code inside the except block is executed. This block specifies the type of exception to catch.\n",
    "\n",
    "else: The else block is executed if no exceptions occur in the try block. It is optional and provides a place for code that should run only if there are no exceptions.\n",
    "\n",
    "finally: The finally block, if present, will be executed whether an exception occurs or not. It is typically used for cleanup code that must be executed under all circumstances."
   ]
  },
  {
   "cell_type": "code",
   "execution_count": 4,
   "id": "11ec04a9-4efb-46b2-bab1-31e7286a153d",
   "metadata": {},
   "outputs": [
    {
     "name": "stdout",
     "output_type": "stream",
     "text": [
      "Result: 5.0\n",
      "This block always executes, regardless of exceptions.\n"
     ]
    }
   ],
   "source": [
    "def divide_numbers(numerator, denominator):\n",
    "    try:\n",
    "        result = numerator / denominator  # This may raise a ZeroDivisionError\n",
    "    except ZeroDivisionError:\n",
    "        print(\"Error: Cannot divide by zero!\")\n",
    "    else:\n",
    "        print(\"Result:\", result)\n",
    "    finally:\n",
    "        print(\"This block always executes, regardless of exceptions.\")\n",
    "\n",
    "# Example usage:\n",
    "divide_numbers(10, 2)   # No exception, both except and else blocks will be skipped.\n"
   ]
  },
  {
   "cell_type": "markdown",
   "id": "17747e36-6223-46f9-aab1-1e32ca31d613",
   "metadata": {},
   "source": [
    "In this example, the divide_numbers function attempts to perform division inside a try block. If a ZeroDivisionError occurs (i.e., if the denominator is 0), the exception is caught by the except block, and an error message is printed. If no exception occurs, the else block is executed, and the result is printed. The finally block is always executed, providing a place for cleanup code.\n",
    "\n",
    "You can test the function with different inputs, such as divide_numbers(10, 0) to see how the exception is handled and the finally block is executed even in the presence of an exception."
   ]
  },
  {
   "cell_type": "markdown",
   "id": "1792c652-728f-409a-a5b0-105180723d17",
   "metadata": {},
   "source": [
    "Q4. Explain with an example :\n",
    "\n",
    "a. try and else\n",
    "\n",
    "b. finally\n",
    "\n",
    "c. raise"
   ]
  },
  {
   "cell_type": "markdown",
   "id": "b39b28b5-f3b2-4d37-9360-038c8209279e",
   "metadata": {},
   "source": [
    "a. try and else:\n",
    "\n",
    "The else block is executed when no exception occurs in the associated try block. "
   ]
  },
  {
   "cell_type": "code",
   "execution_count": 5,
   "id": "4d953e71-2081-4ae9-addb-620ffab47a1f",
   "metadata": {},
   "outputs": [
    {
     "name": "stdout",
     "output_type": "stream",
     "text": [
      "Result: 5.0\n",
      "No exception occurred!\n"
     ]
    }
   ],
   "source": [
    "def divide_numbers(numerator, denominator):\n",
    "    try:\n",
    "        result = numerator / denominator  # This may raise a ZeroDivisionError\n",
    "    except ZeroDivisionError:\n",
    "        print(\"Error: Cannot divide by zero!\")\n",
    "    else:\n",
    "        print(\"Result:\", result)\n",
    "        print(\"No exception occurred!\")\n",
    "\n",
    "# Example usage:\n",
    "divide_numbers(10, 2)   # No exception, else block will be executed.\n"
   ]
  },
  {
   "cell_type": "markdown",
   "id": "4561f739-6bf2-4322-a2ae-0454d9680711",
   "metadata": {},
   "source": [
    "In this example, if the denominator is not zero, the else block is executed, printing the result and a message indicating that no exception occurred."
   ]
  },
  {
   "cell_type": "markdown",
   "id": "cbf1c1a1-3aa0-4ee5-8808-d1be3829e450",
   "metadata": {},
   "source": [
    "b. finally:\n",
    "\n",
    "The finally block is always executed, regardless of whether an exception occurs or not."
   ]
  },
  {
   "cell_type": "code",
   "execution_count": 6,
   "id": "6cfd2d7b-4b4a-41eb-8ec7-40cbf00cc013",
   "metadata": {},
   "outputs": [
    {
     "name": "stdout",
     "output_type": "stream",
     "text": [
      "Error: Cannot divide by zero!\n",
      "This block always executes, regardless of exceptions.\n"
     ]
    }
   ],
   "source": [
    "def divide_numbers(numerator, denominator):\n",
    "    try:\n",
    "        result = numerator / denominator  # This may raise a ZeroDivisionError\n",
    "        print(\"Result:\", result)\n",
    "    except ZeroDivisionError:\n",
    "        print(\"Error: Cannot divide by zero!\")\n",
    "    finally:\n",
    "        print(\"This block always executes, regardless of exceptions.\")\n",
    "\n",
    "# Example usage:\n",
    "divide_numbers(10, 0)   # Exception occurs, finally block is still executed.\n"
   ]
  },
  {
   "cell_type": "markdown",
   "id": "ac38379e-a290-4a4e-b59e-9c448a316d7f",
   "metadata": {},
   "source": [
    "In this example, even though a ZeroDivisionError occurs, the finally block is still executed, allowing you to include cleanup or finalization code."
   ]
  },
  {
   "cell_type": "markdown",
   "id": "604db10e-8b1c-4830-827b-f406f6a2a4c2",
   "metadata": {},
   "source": [
    "c. raise:\n",
    "\n",
    "The raise statement is used to explicitly raise an exception."
   ]
  },
  {
   "cell_type": "code",
   "execution_count": 7,
   "id": "16e88d98-0379-4dfe-9255-d8b940f6df05",
   "metadata": {},
   "outputs": [
    {
     "name": "stdout",
     "output_type": "stream",
     "text": [
      "Error: Age cannot be negative.\n"
     ]
    }
   ],
   "source": [
    "def validate_age(age):\n",
    "    if age < 0:\n",
    "        raise ValueError(\"Age cannot be negative.\")\n",
    "    elif age < 18:\n",
    "        raise ValueError(\"Must be 18 or older for certain actions.\")\n",
    "    else:\n",
    "        print(\"Age is valid.\")\n",
    "\n",
    "# Example usage:\n",
    "try:\n",
    "    validate_age(-5)   # This will raise a ValueError\n",
    "except ValueError as e:\n",
    "    print(f\"Error: {e}\")\n"
   ]
  },
  {
   "cell_type": "markdown",
   "id": "cc6ac9b0-e470-41a7-bd89-62a881bbf352",
   "metadata": {},
   "source": [
    "In this example, the validate_age function checks if the provided age is negative or less than 18 and raises a ValueError with an appropriate message. The try-except block catches this exception, allowing you to handle it gracefully."
   ]
  },
  {
   "cell_type": "markdown",
   "id": "c8bf2b06-0f6f-45a7-8c41-bd187b647eba",
   "metadata": {},
   "source": [
    "Q5. What are custom exception in python ? Why do we need custom exceptions ? Explain with an example."
   ]
  },
  {
   "cell_type": "markdown",
   "id": "c1207fe9-16b8-49e1-9ff9-ae9f6f5fa2a5",
   "metadata": {},
   "source": [
    "In Python, custom exceptions are user-defined exceptions that allow developers to create their own exception classes to represent specific error conditions within their programs. While Python provides a variety of built-in exceptions, there are cases where it makes sense to define custom exceptions that are tailored to the requirements of a specific application or module."
   ]
  },
  {
   "cell_type": "markdown",
   "id": "d7e62caa-159b-4bda-a32c-c95a59cb9544",
   "metadata": {},
   "source": [
    "Why do we need custom exceptions?\n",
    "\n",
    "1. Semantic Clarity: Custom exceptions provide a way to give more meaningful names to specific error conditions in your code. This enhances the clarity of the code and makes it easier to understand the nature of errors.\n",
    "\n",
    "2. Hierarchy and Organization: You can organize custom exceptions into a hierarchy, making it easier to handle different types of errors at different levels of your application.\n",
    "\n",
    "3. Centralized Error Handling: Custom exceptions allow for centralized error handling. You can catch these exceptions at higher levels of your code, providing a more systematic approach to handling errors.\n",
    "\n",
    "4. Custom Error Messages: With custom exceptions, you can include additional information in the exception object, allowing you to provide more context-specific error messages."
   ]
  },
  {
   "cell_type": "code",
   "execution_count": 1,
   "id": "343377c0-150a-4fea-bab6-2fd562ae6ae0",
   "metadata": {},
   "outputs": [
    {
     "name": "stdout",
     "output_type": "stream",
     "text": [
      "Error: Insufficient funds for withdrawal of $1200. Current balance: $1500\n"
     ]
    }
   ],
   "source": [
    "class WithdrawalError(Exception):\n",
    "    \"\"\"Custom exception for withdrawal-related errors.\"\"\"\n",
    "    def __init__(self, amount, balance):\n",
    "        self.amount = amount\n",
    "        self.balance = balance\n",
    "        super().__init__(f\"Insufficient funds for withdrawal of ${amount}. Current balance: ${balance}\")\n",
    "\n",
    "def withdraw(account_balance, amount_to_withdraw):\n",
    "    minimum_balance = 1000\n",
    "\n",
    "    if account_balance - amount_to_withdraw < minimum_balance:\n",
    "        raise WithdrawalError(amount_to_withdraw, account_balance)\n",
    "\n",
    "    # Perform the withdrawal logic here\n",
    "    new_balance = account_balance - amount_to_withdraw\n",
    "    print(f\"Withdrawal successful. New balance: ${new_balance}\")\n",
    "\n",
    "# Example usage:\n",
    "try:\n",
    "    withdraw(1500, 1200)  # This will raise a WithdrawalError\n",
    "except WithdrawalError as e:\n",
    "    print(f\"Error: {e}\")\n"
   ]
  },
  {
   "cell_type": "markdown",
   "id": "c8d2ee53-4f73-4b7b-8733-a6d271763b63",
   "metadata": {},
   "source": [
    "In this example, a custom exception WithdrawalError is defined to represent errors related to insufficient funds during a withdrawal operation. The withdraw function raises this custom exception when the withdrawal amount would result in a balance falling below the minimum required balance. The try-except block then catches this custom exception and allows for specific handling or reporting."
   ]
  },
  {
   "cell_type": "code",
   "execution_count": null,
   "id": "79743398-7406-4a65-9872-f1a902b96d4c",
   "metadata": {},
   "outputs": [],
   "source": []
  }
 ],
 "metadata": {
  "kernelspec": {
   "display_name": "Python 3 (ipykernel)",
   "language": "python",
   "name": "python3"
  },
  "language_info": {
   "codemirror_mode": {
    "name": "ipython",
    "version": 3
   },
   "file_extension": ".py",
   "mimetype": "text/x-python",
   "name": "python",
   "nbconvert_exporter": "python",
   "pygments_lexer": "ipython3",
   "version": "3.11.7"
  }
 },
 "nbformat": 4,
 "nbformat_minor": 5
}
